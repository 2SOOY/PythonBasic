{
 "cells": [
  {
   "cell_type": "markdown",
   "metadata": {},
   "source": [
    "## zip\n",
    "\n",
    "+ 2개 이상의 시퀀스를 인수로 받는다.\n",
    "+ 시퀀스의 각 항목이 순서대로 대응하는 새로운 튜플 시퀀스를 생성한다. (zip 객체 리턴)\n",
    "+ 만약 인수로 받은 시퀀스의 길이가 다르다면, 가장 짧은 시퀀스를 기준으로 동작한다."
   ]
  },
  {
   "cell_type": "code",
   "execution_count": 6,
   "metadata": {},
   "outputs": [
    {
     "data": {
      "text/plain": [
       "[(1, 'a', 'ㄱ'), (2, 'b', 'ㄴ'), (3, 'c', 'ㄷ'), (4, 'd', 'ㄹ')]"
      ]
     },
     "execution_count": 6,
     "metadata": {},
     "output_type": "execute_result"
    }
   ],
   "source": [
    "a = [1, 2, 3, 4, 5]\n",
    "b = ['a', 'b', 'c', 'd']\n",
    "c = ['ㄱ', 'ㄴ', 'ㄷ', 'ㄹ', 'ㅁ']\n",
    "\n",
    "list(zip(a,b,c))"
   ]
  },
  {
   "cell_type": "markdown",
   "metadata": {},
   "source": [
    "## map\n",
    "\n",
    "+ map(function, List)\n",
    "+ 시퀀스에 모든 항목에 함수를 적용한 결과 리스트를 반환한다."
   ]
  },
  {
   "cell_type": "code",
   "execution_count": 10,
   "metadata": {},
   "outputs": [
    {
     "data": {
      "text/plain": [
       "[0, 1, 4, 9, 16, 25]"
      ]
     },
     "execution_count": 10,
     "metadata": {},
     "output_type": "execute_result"
    }
   ],
   "source": [
    "def square(x): return x**2\n",
    "\n",
    "a = [0, 1, 2, 3, 4, 5]\n",
    "list(map(square, a))"
   ]
  },
  {
   "cell_type": "code",
   "execution_count": 11,
   "metadata": {},
   "outputs": [
    {
     "data": {
      "text/plain": [
       "[(0, 0), (1, 1), (2, 8), (3, 27), (4, 64)]"
      ]
     },
     "execution_count": 11,
     "metadata": {},
     "output_type": "execute_result"
    }
   ],
   "source": [
    "def cube(x): return x**3\n",
    "\n",
    "b = range(5)\n",
    "list(zip(b, map(cube, b)))"
   ]
  },
  {
   "cell_type": "markdown",
   "metadata": {},
   "source": [
    "## lambda\n",
    "\n",
    "+ 함수를 간결하게 동적으로 사용\n",
    "+ lambda 인자1, 인자2, ... : 식"
   ]
  },
  {
   "cell_type": "code",
   "execution_count": 16,
   "metadata": {},
   "outputs": [
    {
     "name": "stdout",
     "output_type": "stream",
     "text": [
      "함수 -> 10.0\n",
      "람다 -> 10.0\n"
     ]
    }
   ],
   "source": [
    "# 일반 함수 \n",
    "def area1(b, h): return 0.5 * b * h\n",
    "print(\"함수 ->\",area1(10, 2))\n",
    "\n",
    "# 람다 함수\n",
    "area2 = lambda b, h: 0.5 * b * h\n",
    "print(\"람다 ->\",area2(10, 2))"
   ]
  }
 ],
 "metadata": {
  "kernelspec": {
   "display_name": "Python 3",
   "language": "python",
   "name": "python3"
  },
  "language_info": {
   "codemirror_mode": {
    "name": "ipython",
    "version": 3
   },
   "file_extension": ".py",
   "mimetype": "text/x-python",
   "name": "python",
   "nbconvert_exporter": "python",
   "pygments_lexer": "ipython3",
   "version": "3.7.3"
  }
 },
 "nbformat": 4,
 "nbformat_minor": 2
}
